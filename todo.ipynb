{
  "nbformat": 4,
  "nbformat_minor": 0,
  "metadata": {
    "colab": {
      "name": "todo.ipynb",
      "provenance": [],
      "authorship_tag": "ABX9TyPINslMzMpLVdffBC6AIrUM",
      "include_colab_link": true
    },
    "kernelspec": {
      "name": "python3",
      "display_name": "Python 3"
    }
  },
  "cells": [
    {
      "cell_type": "markdown",
      "metadata": {
        "id": "view-in-github",
        "colab_type": "text"
      },
      "source": [
        "<a href=\"https://colab.research.google.com/github/M45um19/Todo-With-python/blob/main/todo.ipynb\" target=\"_parent\"><img src=\"https://colab.research.google.com/assets/colab-badge.svg\" alt=\"Open In Colab\"/></a>"
      ]
    },
    {
      "cell_type": "code",
      "metadata": {
        "id": "F-pDkenzUxnj",
        "colab": {
          "base_uri": "https://localhost:8080/"
        },
        "outputId": "955f85a2-f101-4a98-f444-414be7e08720"
      },
      "source": [
        "course_name = []\r\n",
        "course_code = []\r\n",
        "def add_course():\r\n",
        "    course_nm=input(\"Enter course name: \")\r\n",
        "    course_name.append(course_nm)\r\n",
        "    course_cd = input(\"Enter course code: \")\r\n",
        "    course_code.append(course_cd)\r\n",
        "def show_course():\r\n",
        "    if len(course_name)==0:\r\n",
        "        print(\"Please input something\")\r\n",
        "    else:\r\n",
        "        for a in course_name:\r\n",
        "            print(\"course name:\",a)\r\n",
        "            for b in course_code:\r\n",
        "                print(\"course code:\",b)\r\n",
        "def remove_course():\r\n",
        "    if len(course_name)==0:\r\n",
        "        print(\"Please input something\")\r\n",
        "    else:\r\n",
        "        rmv_cr_nm = input(\"Enter course name: \")\r\n",
        "        course_name.remove(rmv_cr_nm)\r\n",
        "        rmv_cr_cd = input(\"Enter course code: \")\r\n",
        "        course_code.remove(rmv_cr_cd)\r\n",
        "def users_page():\r\n",
        "    a=True\r\n",
        "    while a:\r\n",
        "        print(\"0. for exit\")\r\n",
        "        print(\"1.add course\")\r\n",
        "        print(\"2.remove course\")\r\n",
        "        print(\"3.show all course\")\r\n",
        "        option = int(input(\"choose your option \"))\r\n",
        "        if option == 1:\r\n",
        "            add_course()\r\n",
        "        elif option == 2:\r\n",
        "            remove_course()\r\n",
        "        elif option == 3:\r\n",
        "            show_course()\r\n",
        "        elif option == 0:\r\n",
        "            print(\"Thnaks You\")\r\n",
        "            a=False\r\n",
        "        else:\r\n",
        "            print(\"please input correctly\")\r\n",
        "\r\n",
        "users_page()"
      ],
      "execution_count": null,
      "outputs": [
        {
          "output_type": "stream",
          "text": [
            "0. for exit\n",
            "1.add course\n",
            "2.remove course\n",
            "3.show all course\n",
            "choose your option 1\n",
            "Enter course name: test\n",
            "Enter course code: test12\n",
            "0. for exit\n",
            "1.add course\n",
            "2.remove course\n",
            "3.show all course\n",
            "choose your option 3\n",
            "course name: test\n",
            "course code: test12\n",
            "0. for exit\n",
            "1.add course\n",
            "2.remove course\n",
            "3.show all course\n",
            "choose your option 2\n",
            "Enter course name: test\n",
            "Enter course code: test12\n",
            "0. for exit\n",
            "1.add course\n",
            "2.remove course\n",
            "3.show all course\n",
            "choose your option 3\n",
            "Please input something\n",
            "0. for exit\n",
            "1.add course\n",
            "2.remove course\n",
            "3.show all course\n"
          ],
          "name": "stdout"
        }
      ]
    },
    {
      "cell_type": "code",
      "metadata": {
        "id": "q1IeQu0dU468"
      },
      "source": [
        ""
      ],
      "execution_count": null,
      "outputs": []
    }
  ]
}